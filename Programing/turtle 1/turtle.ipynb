{
 "cells": [
  {
   "cell_type": "code",
   "execution_count": 1,
   "metadata": {
    "collapsed": true
   },
   "outputs": [],
   "source": [
    "import turtle\n",
    "\n",
    "turtle.shape('turtle')\n",
    "turtle.forward(50)\n",
    "turtle.left(90)\n",
    "turtle.forward(50)\n",
    "turtle.left(90)\n",
    "turtle.forward(50)\n",
    "turtle.right(90)\n",
    "turtle.forward(50)\n",
    "turtle.right(90)\n",
    "turtle.forward(50)\n",
    "\n",
    "turtle.mainloop()"
   ]
  },
  {
   "cell_type": "code",
   "execution_count": 2,
   "outputs": [],
   "source": [
    "import numpy as np"
   ],
   "metadata": {
    "collapsed": false
   }
  },
  {
   "cell_type": "code",
   "execution_count": 3,
   "outputs": [
    {
     "ename": "Terminator",
     "evalue": "",
     "output_type": "error",
     "traceback": [
      "\u001B[0;31m---------------------------------------------------------------------------\u001B[0m",
      "\u001B[0;31mTerminator\u001B[0m                                Traceback (most recent call last)",
      "Input \u001B[0;32mIn [3]\u001B[0m, in \u001B[0;36m<cell line: 1>\u001B[0;34m()\u001B[0m\n\u001B[0;32m----> 1\u001B[0m \u001B[43mturtle\u001B[49m\u001B[38;5;241;43m.\u001B[39;49m\u001B[43mshape\u001B[49m\u001B[43m(\u001B[49m\u001B[38;5;124;43m'\u001B[39;49m\u001B[38;5;124;43mturtle\u001B[39;49m\u001B[38;5;124;43m'\u001B[39;49m\u001B[43m)\u001B[49m\n\u001B[1;32m      2\u001B[0m \u001B[38;5;28;01mfor\u001B[39;00m i \u001B[38;5;129;01min\u001B[39;00m \u001B[38;5;28mrange\u001B[39m(\u001B[38;5;241m4\u001B[39m):\n\u001B[1;32m      3\u001B[0m     turtle\u001B[38;5;241m.\u001B[39mforward(\u001B[38;5;241m50\u001B[39m)\n",
      "File \u001B[0;32m<string>:5\u001B[0m, in \u001B[0;36mshape\u001B[0;34m(name)\u001B[0m\n",
      "\u001B[0;31mTerminator\u001B[0m: "
     ]
    }
   ],
   "source": [
    "turtle.shape('turtle')\n",
    "for i in range(4):\n",
    "    turtle.forward(50)\n",
    "    turtle.right(90)\n",
    "\n",
    "turtle.mainloop()"
   ],
   "metadata": {
    "collapsed": false
   }
  },
  {
   "cell_type": "code",
   "execution_count": 4,
   "outputs": [],
   "source": [
    "turtle.shape('turtle')\n",
    "\n",
    "\n",
    "for i in range(1080):\n",
    "    turtle.forward(1)\n",
    "    turtle.right(0.33)\n",
    "\n",
    "turtle.mainloop()"
   ],
   "metadata": {
    "collapsed": false
   }
  },
  {
   "cell_type": "code",
   "execution_count": 5,
   "outputs": [
    {
     "ename": "Terminator",
     "evalue": "",
     "output_type": "error",
     "traceback": [
      "\u001B[0;31m---------------------------------------------------------------------------\u001B[0m",
      "\u001B[0;31mTerminator\u001B[0m                                Traceback (most recent call last)",
      "Input \u001B[0;32mIn [5]\u001B[0m, in \u001B[0;36m<cell line: 1>\u001B[0;34m()\u001B[0m\n\u001B[0;32m----> 1\u001B[0m \u001B[43mturtle\u001B[49m\u001B[38;5;241;43m.\u001B[39;49m\u001B[43mshape\u001B[49m\u001B[43m(\u001B[49m\u001B[38;5;124;43m'\u001B[39;49m\u001B[38;5;124;43mturtle\u001B[39;49m\u001B[38;5;124;43m'\u001B[39;49m\u001B[43m)\u001B[49m\n\u001B[1;32m      2\u001B[0m mas \u001B[38;5;241m=\u001B[39m [\u001B[38;5;241m1\u001B[39m, \u001B[38;5;241m2\u001B[39m, \u001B[38;5;241m3\u001B[39m, \u001B[38;5;241m4\u001B[39m, \u001B[38;5;241m5\u001B[39m, \u001B[38;5;241m6\u001B[39m, \u001B[38;5;241m7\u001B[39m, \u001B[38;5;241m8\u001B[39m, \u001B[38;5;241m9\u001B[39m, \u001B[38;5;241m10\u001B[39m]\n\u001B[1;32m      3\u001B[0m turtle\u001B[38;5;241m.\u001B[39mpenup()\n",
      "File \u001B[0;32m<string>:5\u001B[0m, in \u001B[0;36mshape\u001B[0;34m(name)\u001B[0m\n",
      "\u001B[0;31mTerminator\u001B[0m: "
     ]
    }
   ],
   "source": [
    "turtle.shape('turtle')\n",
    "mas = [1, 2, 3, 4, 5, 6, 7, 8, 9, 10]\n",
    "turtle.penup()\n",
    "for j in mas:\n",
    "\n",
    "    turtle.goto(10*j, 10*j)\n",
    "    turtle.pendown()\n",
    "    turtle.goto(-10*j, 10*j)\n",
    "    turtle.goto(-10*j, -10*j)\n",
    "    turtle.goto(10*j, -10*j)\n",
    "    turtle.goto(10*j, 10*j)\n",
    "    turtle.penup()\n",
    "\n",
    "\n",
    "turtle.mainloop()"
   ],
   "metadata": {
    "collapsed": false
   }
  },
  {
   "cell_type": "code",
   "execution_count": 6,
   "outputs": [],
   "source": [
    "turtle.shape('turtle')\n",
    "\n",
    "for i in range(12):\n",
    "    turtle.forward(100)\n",
    "    turtle.stamp()\n",
    "    turtle.backward(100)\n",
    "    turtle.left(30)\n",
    "\n",
    "\n",
    "turtle.mainloop()"
   ],
   "metadata": {
    "collapsed": false
   }
  },
  {
   "cell_type": "markdown",
   "source": [],
   "metadata": {
    "collapsed": false
   }
  },
  {
   "cell_type": "code",
   "execution_count": 76,
   "outputs": [
    {
     "ename": "Terminator",
     "evalue": "",
     "output_type": "error",
     "traceback": [
      "\u001B[1;31m---------------------------------------------------------------------------\u001B[0m",
      "\u001B[1;31mTerminator\u001B[0m                                Traceback (most recent call last)",
      "Cell \u001B[1;32mIn [76], line 5\u001B[0m\n\u001B[0;32m      3\u001B[0m \u001B[38;5;28;01mfor\u001B[39;00m i \u001B[38;5;129;01min\u001B[39;00m \u001B[38;5;28mrange\u001B[39m(\u001B[38;5;241m10000\u001B[39m):\n\u001B[0;32m      4\u001B[0m     turtle\u001B[38;5;241m.\u001B[39mforward(i\u001B[38;5;241m/\u001B[39m\u001B[38;5;241m1000\u001B[39m)\n\u001B[1;32m----> 5\u001B[0m     \u001B[43mturtle\u001B[49m\u001B[38;5;241;43m.\u001B[39;49m\u001B[43mleft\u001B[49m\u001B[43m(\u001B[49m\u001B[38;5;241;43m1\u001B[39;49m\u001B[43m)\u001B[49m\n\u001B[0;32m      7\u001B[0m turtle\u001B[38;5;241m.\u001B[39mmainloop()\n",
      "File \u001B[1;32m<string>:5\u001B[0m, in \u001B[0;36mleft\u001B[1;34m(angle)\u001B[0m\n",
      "\u001B[1;31mTerminator\u001B[0m: "
     ]
    }
   ],
   "source": [
    "turtle.shape('turtle')\n",
    "turtle.speed(10000)\n",
    "for i in range(10000):\n",
    "    turtle.forward(i/1000)\n",
    "    turtle.left(1)\n",
    "\n",
    "turtle.mainloop()"
   ],
   "metadata": {
    "collapsed": false
   }
  },
  {
   "cell_type": "code",
   "execution_count": 79,
   "outputs": [
    {
     "ename": "Terminator",
     "evalue": "",
     "output_type": "error",
     "traceback": [
      "\u001B[1;31m---------------------------------------------------------------------------\u001B[0m",
      "\u001B[1;31mTclError\u001B[0m                                  Traceback (most recent call last)",
      "File \u001B[1;32m<string>:8\u001B[0m, in \u001B[0;36mforward\u001B[1;34m(distance)\u001B[0m\n",
      "File \u001B[1;32m~\\AppData\\Local\\Programs\\Python\\Python310\\lib\\turtle.py:1638\u001B[0m, in \u001B[0;36mTNavigator.forward\u001B[1;34m(self, distance)\u001B[0m\n\u001B[0;32m   1618\u001B[0m \u001B[38;5;124;03m\"\"\"Move the turtle forward by the specified distance.\u001B[39;00m\n\u001B[0;32m   1619\u001B[0m \n\u001B[0;32m   1620\u001B[0m \u001B[38;5;124;03mAliases: forward | fd\u001B[39;00m\n\u001B[1;32m   (...)\u001B[0m\n\u001B[0;32m   1636\u001B[0m \u001B[38;5;124;03m(-50.00,0.00)\u001B[39;00m\n\u001B[0;32m   1637\u001B[0m \u001B[38;5;124;03m\"\"\"\u001B[39;00m\n\u001B[1;32m-> 1638\u001B[0m \u001B[38;5;28;43mself\u001B[39;49m\u001B[38;5;241;43m.\u001B[39;49m\u001B[43m_go\u001B[49m\u001B[43m(\u001B[49m\u001B[43mdistance\u001B[49m\u001B[43m)\u001B[49m\n",
      "File \u001B[1;32m~\\AppData\\Local\\Programs\\Python\\Python310\\lib\\turtle.py:1606\u001B[0m, in \u001B[0;36mTNavigator._go\u001B[1;34m(self, distance)\u001B[0m\n\u001B[0;32m   1605\u001B[0m ende \u001B[38;5;241m=\u001B[39m \u001B[38;5;28mself\u001B[39m\u001B[38;5;241m.\u001B[39m_position \u001B[38;5;241m+\u001B[39m \u001B[38;5;28mself\u001B[39m\u001B[38;5;241m.\u001B[39m_orient \u001B[38;5;241m*\u001B[39m distance\n\u001B[1;32m-> 1606\u001B[0m \u001B[38;5;28;43mself\u001B[39;49m\u001B[38;5;241;43m.\u001B[39;49m\u001B[43m_goto\u001B[49m\u001B[43m(\u001B[49m\u001B[43mende\u001B[49m\u001B[43m)\u001B[49m\n",
      "File \u001B[1;32m~\\AppData\\Local\\Programs\\Python\\Python310\\lib\\turtle.py:3178\u001B[0m, in \u001B[0;36mRawTurtle._goto\u001B[1;34m(self, end)\u001B[0m\n\u001B[0;32m   3177\u001B[0m \u001B[38;5;28;01mif\u001B[39;00m \u001B[38;5;28mself\u001B[39m\u001B[38;5;241m.\u001B[39m_drawing:\n\u001B[1;32m-> 3178\u001B[0m     \u001B[43mscreen\u001B[49m\u001B[38;5;241;43m.\u001B[39;49m\u001B[43m_drawline\u001B[49m\u001B[43m(\u001B[49m\u001B[38;5;28;43mself\u001B[39;49m\u001B[38;5;241;43m.\u001B[39;49m\u001B[43mdrawingLineItem\u001B[49m\u001B[43m,\u001B[49m\n\u001B[0;32m   3179\u001B[0m \u001B[43m                     \u001B[49m\u001B[43m(\u001B[49m\u001B[43mstart\u001B[49m\u001B[43m,\u001B[49m\u001B[43m \u001B[49m\u001B[38;5;28;43mself\u001B[39;49m\u001B[38;5;241;43m.\u001B[39;49m\u001B[43m_position\u001B[49m\u001B[43m)\u001B[49m\u001B[43m,\u001B[49m\n\u001B[0;32m   3180\u001B[0m \u001B[43m                     \u001B[49m\u001B[38;5;28;43mself\u001B[39;49m\u001B[38;5;241;43m.\u001B[39;49m\u001B[43m_pencolor\u001B[49m\u001B[43m,\u001B[49m\u001B[43m \u001B[49m\u001B[38;5;28;43mself\u001B[39;49m\u001B[38;5;241;43m.\u001B[39;49m\u001B[43m_pensize\u001B[49m\u001B[43m,\u001B[49m\u001B[43m \u001B[49m\u001B[43mtop\u001B[49m\u001B[43m)\u001B[49m\n\u001B[0;32m   3181\u001B[0m \u001B[38;5;28mself\u001B[39m\u001B[38;5;241m.\u001B[39m_update()\n",
      "File \u001B[1;32m~\\AppData\\Local\\Programs\\Python\\Python310\\lib\\turtle.py:544\u001B[0m, in \u001B[0;36mTurtleScreenBase._drawline\u001B[1;34m(self, lineitem, coordlist, fill, width, top)\u001B[0m\n\u001B[0;32m    543\u001B[0m         cl\u001B[38;5;241m.\u001B[39mappend(\u001B[38;5;241m-\u001B[39my \u001B[38;5;241m*\u001B[39m \u001B[38;5;28mself\u001B[39m\u001B[38;5;241m.\u001B[39myscale)\n\u001B[1;32m--> 544\u001B[0m     \u001B[38;5;28;43mself\u001B[39;49m\u001B[38;5;241;43m.\u001B[39;49m\u001B[43mcv\u001B[49m\u001B[38;5;241;43m.\u001B[39;49m\u001B[43mcoords\u001B[49m\u001B[43m(\u001B[49m\u001B[43mlineitem\u001B[49m\u001B[43m,\u001B[49m\u001B[43m \u001B[49m\u001B[38;5;241;43m*\u001B[39;49m\u001B[43mcl\u001B[49m\u001B[43m)\u001B[49m\n\u001B[0;32m    545\u001B[0m \u001B[38;5;28;01mif\u001B[39;00m fill \u001B[38;5;129;01mis\u001B[39;00m \u001B[38;5;129;01mnot\u001B[39;00m \u001B[38;5;28;01mNone\u001B[39;00m:\n",
      "File \u001B[1;32m<string>:1\u001B[0m, in \u001B[0;36mcoords\u001B[1;34m(self, *args, **kw)\u001B[0m\n",
      "File \u001B[1;32m~\\AppData\\Local\\Programs\\Python\\Python310\\lib\\tkinter\\__init__.py:2795\u001B[0m, in \u001B[0;36mCanvas.coords\u001B[1;34m(self, *args)\u001B[0m\n\u001B[0;32m   2792\u001B[0m \u001B[38;5;66;03m# XXX Should use _flatten on args\u001B[39;00m\n\u001B[0;32m   2793\u001B[0m \u001B[38;5;28;01mreturn\u001B[39;00m [\u001B[38;5;28mself\u001B[39m\u001B[38;5;241m.\u001B[39mtk\u001B[38;5;241m.\u001B[39mgetdouble(x) \u001B[38;5;28;01mfor\u001B[39;00m x \u001B[38;5;129;01min\u001B[39;00m\n\u001B[0;32m   2794\u001B[0m                    \u001B[38;5;28mself\u001B[39m\u001B[38;5;241m.\u001B[39mtk\u001B[38;5;241m.\u001B[39msplitlist(\n\u001B[1;32m-> 2795\u001B[0m            \u001B[38;5;28;43mself\u001B[39;49m\u001B[38;5;241;43m.\u001B[39;49m\u001B[43mtk\u001B[49m\u001B[38;5;241;43m.\u001B[39;49m\u001B[43mcall\u001B[49m\u001B[43m(\u001B[49m\u001B[43m(\u001B[49m\u001B[38;5;28;43mself\u001B[39;49m\u001B[38;5;241;43m.\u001B[39;49m\u001B[43m_w\u001B[49m\u001B[43m,\u001B[49m\u001B[43m \u001B[49m\u001B[38;5;124;43m'\u001B[39;49m\u001B[38;5;124;43mcoords\u001B[39;49m\u001B[38;5;124;43m'\u001B[39;49m\u001B[43m)\u001B[49m\u001B[43m \u001B[49m\u001B[38;5;241;43m+\u001B[39;49m\u001B[43m \u001B[49m\u001B[43margs\u001B[49m\u001B[43m)\u001B[49m)]\n",
      "\u001B[1;31mTclError\u001B[0m: invalid command name \".!canvas\"",
      "\nDuring handling of the above exception, another exception occurred:\n",
      "\u001B[1;31mTerminator\u001B[0m                                Traceback (most recent call last)",
      "Cell \u001B[1;32mIn [79], line 4\u001B[0m\n\u001B[0;32m      1\u001B[0m turtle\u001B[38;5;241m.\u001B[39mshape(\u001B[38;5;124m'\u001B[39m\u001B[38;5;124mturtle\u001B[39m\u001B[38;5;124m'\u001B[39m)\n\u001B[0;32m      3\u001B[0m \u001B[38;5;28;01mfor\u001B[39;00m i \u001B[38;5;129;01min\u001B[39;00m \u001B[38;5;28mrange\u001B[39m(\u001B[38;5;241m100\u001B[39m):\n\u001B[1;32m----> 4\u001B[0m     \u001B[43mturtle\u001B[49m\u001B[38;5;241;43m.\u001B[39;49m\u001B[43mforward\u001B[49m\u001B[43m(\u001B[49m\u001B[43mi\u001B[49m\u001B[38;5;241;43m*\u001B[39;49m\u001B[38;5;241;43m10\u001B[39;49m\u001B[43m)\u001B[49m\n\u001B[0;32m      5\u001B[0m     turtle\u001B[38;5;241m.\u001B[39mleft(\u001B[38;5;241m90\u001B[39m)\n\u001B[0;32m      7\u001B[0m turtle\u001B[38;5;241m.\u001B[39mmainloop()\n",
      "File \u001B[1;32m<string>:12\u001B[0m, in \u001B[0;36mforward\u001B[1;34m(distance)\u001B[0m\n",
      "\u001B[1;31mTerminator\u001B[0m: "
     ]
    }
   ],
   "source": [
    "turtle.shape('turtle')\n",
    "\n",
    "for i in range(100):\n",
    "    turtle.forward(i*10)\n",
    "    turtle.left(90)\n",
    "\n",
    "turtle.mainloop()"
   ],
   "metadata": {
    "collapsed": false
   }
  },
  {
   "cell_type": "code",
   "execution_count": 64,
   "outputs": [],
   "source": [],
   "metadata": {
    "collapsed": false
   }
  }
 ],
 "metadata": {
  "kernelspec": {
   "display_name": "Python 3",
   "language": "python",
   "name": "python3"
  },
  "language_info": {
   "codemirror_mode": {
    "name": "ipython",
    "version": 2
   },
   "file_extension": ".py",
   "mimetype": "text/x-python",
   "name": "python",
   "nbconvert_exporter": "python",
   "pygments_lexer": "ipython2",
   "version": "2.7.6"
  }
 },
 "nbformat": 4,
 "nbformat_minor": 0
}
